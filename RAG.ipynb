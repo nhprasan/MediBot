{
 "cells": [
  {
   "cell_type": "markdown",
   "id": "75bd0f6b",
   "metadata": {},
   "source": [
    "# LLM using Langchain"
   ]
  },
  {
   "cell_type": "code",
   "execution_count": 1,
   "id": "fae4aaa1",
   "metadata": {
    "scrolled": true
   },
   "outputs": [
    {
     "name": "stdout",
     "output_type": "stream",
     "text": [
      "Defaulting to user installation because normal site-packages is not writeable\n",
      "Requirement already satisfied: langchain in ./.local/lib/python3.8/site-packages (0.2.17)\n",
      "Requirement already satisfied: langchain-mistralai in ./.local/lib/python3.8/site-packages (0.1.13)\n",
      "Requirement already satisfied: pydantic<3,>=1 in ./.local/lib/python3.8/site-packages (from langchain) (1.10.19)\n",
      "Requirement already satisfied: tenacity!=8.4.0,<9.0.0,>=8.1.0 in ./.local/lib/python3.8/site-packages (from langchain) (8.5.0)\n",
      "Requirement already satisfied: langsmith<0.2.0,>=0.1.17 in ./.local/lib/python3.8/site-packages (from langchain) (0.1.140)\n",
      "Requirement already satisfied: PyYAML>=5.3 in /opt/ohpc/pub/apps/python/3.8.12/lib/python3.8/site-packages (from langchain) (6.0)\n",
      "Requirement already satisfied: numpy<2,>=1 in ./.local/lib/python3.8/site-packages (from langchain) (1.24.4)\n",
      "Requirement already satisfied: langchain-core<0.3.0,>=0.2.43 in ./.local/lib/python3.8/site-packages (from langchain) (0.2.43)\n",
      "Requirement already satisfied: langchain-text-splitters<0.3.0,>=0.2.0 in ./.local/lib/python3.8/site-packages (from langchain) (0.2.4)\n",
      "Requirement already satisfied: requests<3,>=2 in ./.local/lib/python3.8/site-packages (from langchain) (2.32.3)\n",
      "Requirement already satisfied: SQLAlchemy<3,>=1.4 in ./.local/lib/python3.8/site-packages (from langchain) (2.0.36)\n",
      "Requirement already satisfied: async-timeout<5.0.0,>=4.0.0 in ./.local/lib/python3.8/site-packages (from langchain) (4.0.3)\n",
      "Requirement already satisfied: aiohttp<4.0.0,>=3.8.3 in ./.local/lib/python3.8/site-packages (from langchain) (3.10.10)\n",
      "Requirement already satisfied: httpx<1,>=0.25.2 in ./.local/lib/python3.8/site-packages (from langchain-mistralai) (0.27.2)\n",
      "Requirement already satisfied: tokenizers<1,>=0.15.1 in ./.local/lib/python3.8/site-packages (from langchain-mistralai) (0.20.3)\n",
      "Requirement already satisfied: httpx-sse<1,>=0.3.1 in ./.local/lib/python3.8/site-packages (from langchain-mistralai) (0.4.0)\n",
      "Requirement already satisfied: yarl<2.0,>=1.12.0 in ./.local/lib/python3.8/site-packages (from aiohttp<4.0.0,>=3.8.3->langchain) (1.15.2)\n",
      "Requirement already satisfied: frozenlist>=1.1.1 in ./.local/lib/python3.8/site-packages (from aiohttp<4.0.0,>=3.8.3->langchain) (1.5.0)\n",
      "Requirement already satisfied: aiosignal>=1.1.2 in ./.local/lib/python3.8/site-packages (from aiohttp<4.0.0,>=3.8.3->langchain) (1.3.1)\n",
      "Requirement already satisfied: aiohappyeyeballs>=2.3.0 in ./.local/lib/python3.8/site-packages (from aiohttp<4.0.0,>=3.8.3->langchain) (2.4.3)\n",
      "Requirement already satisfied: attrs>=17.3.0 in /opt/ohpc/pub/apps/python/3.8.12/lib/python3.8/site-packages (from aiohttp<4.0.0,>=3.8.3->langchain) (21.4.0)\n",
      "Requirement already satisfied: multidict<7.0,>=4.5 in ./.local/lib/python3.8/site-packages (from aiohttp<4.0.0,>=3.8.3->langchain) (6.1.0)\n",
      "Requirement already satisfied: idna in /opt/ohpc/pub/apps/python/3.8.12/lib/python3.8/site-packages (from httpx<1,>=0.25.2->langchain-mistralai) (3.3)\n",
      "Requirement already satisfied: anyio in ./.local/lib/python3.8/site-packages (from httpx<1,>=0.25.2->langchain-mistralai) (4.5.2)\n",
      "Requirement already satisfied: httpcore==1.* in ./.local/lib/python3.8/site-packages (from httpx<1,>=0.25.2->langchain-mistralai) (1.0.6)\n",
      "Requirement already satisfied: sniffio in ./.local/lib/python3.8/site-packages (from httpx<1,>=0.25.2->langchain-mistralai) (1.3.1)\n",
      "Requirement already satisfied: certifi in /opt/ohpc/pub/apps/python/3.8.12/lib/python3.8/site-packages (from httpx<1,>=0.25.2->langchain-mistralai) (2021.10.8)\n",
      "Requirement already satisfied: h11<0.15,>=0.13 in ./.local/lib/python3.8/site-packages (from httpcore==1.*->httpx<1,>=0.25.2->langchain-mistralai) (0.14.0)\n",
      "Requirement already satisfied: jsonpatch<2.0,>=1.33 in ./.local/lib/python3.8/site-packages (from langchain-core<0.3.0,>=0.2.43->langchain) (1.33)\n",
      "Requirement already satisfied: packaging<25,>=23.2 in ./.local/lib/python3.8/site-packages (from langchain-core<0.3.0,>=0.2.43->langchain) (24.1)\n",
      "Requirement already satisfied: typing-extensions>=4.7 in ./.local/lib/python3.8/site-packages (from langchain-core<0.3.0,>=0.2.43->langchain) (4.12.2)\n",
      "Requirement already satisfied: orjson<4.0.0,>=3.9.14 in ./.local/lib/python3.8/site-packages (from langsmith<0.2.0,>=0.1.17->langchain) (3.10.11)\n",
      "Requirement already satisfied: requests-toolbelt<2.0.0,>=1.0.0 in ./.local/lib/python3.8/site-packages (from langsmith<0.2.0,>=0.1.17->langchain) (1.0.0)\n",
      "Requirement already satisfied: urllib3<3,>=1.21.1 in /opt/ohpc/pub/apps/python/3.8.12/lib/python3.8/site-packages (from requests<3,>=2->langchain) (1.26.8)\n",
      "Requirement already satisfied: charset-normalizer<4,>=2 in /opt/ohpc/pub/apps/python/3.8.12/lib/python3.8/site-packages (from requests<3,>=2->langchain) (2.0.11)\n",
      "Requirement already satisfied: greenlet!=0.4.17 in ./.local/lib/python3.8/site-packages (from SQLAlchemy<3,>=1.4->langchain) (3.1.1)\n",
      "Requirement already satisfied: huggingface-hub<1.0,>=0.16.4 in ./.local/lib/python3.8/site-packages (from tokenizers<1,>=0.15.1->langchain-mistralai) (0.26.2)\n",
      "Requirement already satisfied: filelock in /opt/ohpc/pub/apps/python/3.8.12/lib/python3.8/site-packages (from huggingface-hub<1.0,>=0.16.4->tokenizers<1,>=0.15.1->langchain-mistralai) (3.4.2)\n",
      "Requirement already satisfied: tqdm>=4.42.1 in ./.local/lib/python3.8/site-packages (from huggingface-hub<1.0,>=0.16.4->tokenizers<1,>=0.15.1->langchain-mistralai) (4.67.0)\n",
      "Requirement already satisfied: fsspec>=2023.5.0 in ./.local/lib/python3.8/site-packages (from huggingface-hub<1.0,>=0.16.4->tokenizers<1,>=0.15.1->langchain-mistralai) (2024.10.0)\n",
      "Requirement already satisfied: jsonpointer>=1.9 in ./.local/lib/python3.8/site-packages (from jsonpatch<2.0,>=1.33->langchain-core<0.3.0,>=0.2.43->langchain) (3.0.0)\n",
      "Requirement already satisfied: propcache>=0.2.0 in ./.local/lib/python3.8/site-packages (from yarl<2.0,>=1.12.0->aiohttp<4.0.0,>=3.8.3->langchain) (0.2.0)\n",
      "Requirement already satisfied: exceptiongroup>=1.0.2 in ./.local/lib/python3.8/site-packages (from anyio->httpx<1,>=0.25.2->langchain-mistralai) (1.2.2)\n",
      "\u001b[33mWARNING: You are using pip version 22.0.3; however, version 24.3.1 is available.\n",
      "You should consider upgrading via the '/opt/ohpc/pub/apps/python/3.8.12/bin/python3.8 -m pip install --upgrade pip' command.\u001b[0m\u001b[33m\n",
      "\u001b[0m"
     ]
    }
   ],
   "source": [
    "!pip install langchain langchain-mistralai"
   ]
  },
  {
   "cell_type": "code",
   "execution_count": 2,
   "id": "fce7d78a",
   "metadata": {},
   "outputs": [],
   "source": [
    "# Set up the API key\n",
    "import os\n",
    "os.environ[\"MISTRAL_API_KEY\"] = \"HXTGgSOzr4NAO85hGiCGhsbIPm9JpcCY\"\n",
    "\n",
    "# Import the ChatMistralAI model from langchain_mistralai\n",
    "from langchain_mistralai import ChatMistralAI\n",
    "\n",
    "# Initialize the model\n",
    "model = ChatMistralAI(model=\"mistral-large-latest\")"
   ]
  },
  {
   "cell_type": "code",
   "execution_count": 3,
   "id": "d6e62a22",
   "metadata": {},
   "outputs": [
    {
     "data": {
      "text/plain": [
       "AIMessage(content=\"I don't have a name. I'm a text-based AI model created by the Mistral AI team. You can give me a name if you'd like! What would you like to call me?\", response_metadata={'token_usage': {'prompt_tokens': 9, 'total_tokens': 54, 'completion_tokens': 45}, 'model': 'mistral-large-latest', 'finish_reason': 'stop'}, id='run-9e5d66aa-f024-4d90-a714-6ec9b014fc02-0', usage_metadata={'input_tokens': 9, 'output_tokens': 45, 'total_tokens': 54})"
      ]
     },
     "execution_count": 3,
     "metadata": {},
     "output_type": "execute_result"
    }
   ],
   "source": [
    "from langchain_core.messages import HumanMessage\n",
    "\n",
    "model.invoke([HumanMessage(content=\"What's your name?\")])"
   ]
  },
  {
   "cell_type": "code",
   "execution_count": 4,
   "id": "206c7404",
   "metadata": {
    "scrolled": true
   },
   "outputs": [
    {
     "name": "stdout",
     "output_type": "stream",
     "text": [
      "Certainly! A palindrome is a word, phrase, number, or other sequence of characters that reads the same forward and backward (ignoring spaces, punctuation, and capitalization). Below is a Python code to detect if a given string is a palindrome:\n",
      "\n",
      "```python\n",
      "def is_palindrome(s):\n",
      "    # Remove non-alphanumeric characters and convert to lowercase\n",
      "    cleaned_string = ''.join(filter(str.isalnum, s)).lower()\n",
      "    # Check if cleaned string is equal to its reverse\n",
      "    return cleaned_string == cleaned_string[::-1]\n",
      "\n",
      "# Example usage\n",
      "if __name__ == \"__main__\":\n",
      "    test_string = \"A man, a plan, a canal, Panama\"\n",
      "    if is_palindrome(test_string):\n",
      "        print(f'\"{test_string}\" is a palindrome.')\n",
      "    else:\n",
      "        print(f'\"{test_string}\" is not a palindrome.')\n",
      "```\n",
      "\n",
      "This code defines a function `is_palindrome` that:\n",
      "1. Removes non-alphanumeric characters from the input string.\n",
      "2. Converts the resulting string to lowercase to ensure the comparison is case-insensitive.\n",
      "3. Checks if this cleaned string is equal to its reverse.\n",
      "\n",
      "You can call the function with any string to check if it is a palindrome. The example usage shows how to test the function with the string \"A man, a plan, a canal, Panama\".\n"
     ]
    }
   ],
   "source": [
    "from langchain.prompts import ChatPromptTemplate\n",
    "from langchain_mistralai import ChatMistralAI\n",
    "from langchain_core.output_parsers import StrOutputParser\n",
    "\n",
    "# Define the chat prompt template\n",
    "chat_prompt = ChatPromptTemplate.from_messages([\n",
    "    (\"system\", \"You are a helpful assistant.\"),\n",
    "    (\"user\", \"{input}\")\n",
    "])\n",
    "\n",
    "# Initialize the model\n",
    "llm_model = ChatMistralAI(model=\"mistral-large-latest\")\n",
    "\n",
    "# Create a chain with the model and the prompt template\n",
    "chain = chat_prompt|llm_model|StrOutputParser()\n",
    "\n",
    "# Use the invoke method to generate a response\n",
    "response = chain.invoke({\"input\": \"Provide me with a python code to detect palindrome?\"})\n",
    "print(response)"
   ]
  },
  {
   "cell_type": "markdown",
   "id": "004d0063",
   "metadata": {},
   "source": [
    "# Retrieval-Augmented Generation (RAG)"
   ]
  },
  {
   "cell_type": "markdown",
   "id": "1dc9499a",
   "metadata": {},
   "source": [
    "### Vector DB"
   ]
  },
  {
   "cell_type": "code",
   "execution_count": 5,
   "id": "a22ff9ca",
   "metadata": {},
   "outputs": [
    {
     "name": "stdout",
     "output_type": "stream",
     "text": [
      "Defaulting to user installation because normal site-packages is not writeable\n",
      "Requirement already satisfied: langchain-community in ./.local/lib/python3.8/site-packages (0.2.18)\n",
      "Requirement already satisfied: pypdf in ./.local/lib/python3.8/site-packages (5.1.0)\n",
      "Requirement already satisfied: transformers in ./.local/lib/python3.8/site-packages (4.46.2)\n",
      "Requirement already satisfied: sentence-transformers in ./.local/lib/python3.8/site-packages (3.2.1)\n",
      "Requirement already satisfied: langchain-huggingface in ./.local/lib/python3.8/site-packages (0.0.3)\n",
      "Requirement already satisfied: chromadb==0.3.29 in ./.local/lib/python3.8/site-packages (0.3.29)\n",
      "Requirement already satisfied: overrides>=7.3.1 in ./.local/lib/python3.8/site-packages (from chromadb==0.3.29) (7.7.0)\n",
      "Requirement already satisfied: pulsar-client>=3.1.0 in ./.local/lib/python3.8/site-packages (from chromadb==0.3.29) (3.5.0)\n",
      "Requirement already satisfied: posthog>=2.4.0 in ./.local/lib/python3.8/site-packages (from chromadb==0.3.29) (3.7.0)\n",
      "Requirement already satisfied: duckdb>=0.7.1 in ./.local/lib/python3.8/site-packages (from chromadb==0.3.29) (1.1.3)\n",
      "Requirement already satisfied: fastapi==0.85.1 in ./.local/lib/python3.8/site-packages (from chromadb==0.3.29) (0.85.1)\n",
      "Requirement already satisfied: onnxruntime>=1.14.1 in ./.local/lib/python3.8/site-packages (from chromadb==0.3.29) (1.16.3)\n",
      "Requirement already satisfied: numpy>=1.21.6 in ./.local/lib/python3.8/site-packages (from chromadb==0.3.29) (1.24.4)\n",
      "Requirement already satisfied: pandas>=1.3 in /opt/ohpc/pub/apps/python/3.8.12/lib/python3.8/site-packages (from chromadb==0.3.29) (1.4.0)\n",
      "Requirement already satisfied: clickhouse-connect>=0.5.7 in ./.local/lib/python3.8/site-packages (from chromadb==0.3.29) (0.8.6)\n",
      "Requirement already satisfied: requests>=2.28 in ./.local/lib/python3.8/site-packages (from chromadb==0.3.29) (2.32.3)\n",
      "Requirement already satisfied: uvicorn[standard]>=0.18.3 in ./.local/lib/python3.8/site-packages (from chromadb==0.3.29) (0.32.0)\n",
      "Requirement already satisfied: typing-extensions>=4.5.0 in ./.local/lib/python3.8/site-packages (from chromadb==0.3.29) (4.12.2)\n",
      "Requirement already satisfied: pydantic<2.0,>=1.9 in ./.local/lib/python3.8/site-packages (from chromadb==0.3.29) (1.10.19)\n",
      "Requirement already satisfied: hnswlib>=0.7 in ./.local/lib/python3.8/site-packages (from chromadb==0.3.29) (0.8.0)\n",
      "Requirement already satisfied: tokenizers>=0.13.2 in ./.local/lib/python3.8/site-packages (from chromadb==0.3.29) (0.20.3)\n",
      "Requirement already satisfied: graphlib-backport>=1.0.3 in ./.local/lib/python3.8/site-packages (from chromadb==0.3.29) (1.1.0)\n",
      "Requirement already satisfied: tqdm>=4.65.0 in ./.local/lib/python3.8/site-packages (from chromadb==0.3.29) (4.67.0)\n",
      "Requirement already satisfied: starlette==0.20.4 in ./.local/lib/python3.8/site-packages (from fastapi==0.85.1->chromadb==0.3.29) (0.20.4)\n",
      "Requirement already satisfied: anyio<5,>=3.4.0 in ./.local/lib/python3.8/site-packages (from starlette==0.20.4->fastapi==0.85.1->chromadb==0.3.29) (4.5.2)\n",
      "Requirement already satisfied: PyYAML>=5.3 in /opt/ohpc/pub/apps/python/3.8.12/lib/python3.8/site-packages (from langchain-community) (6.0)\n",
      "Requirement already satisfied: tenacity!=8.4.0,<9.0.0,>=8.1.0 in ./.local/lib/python3.8/site-packages (from langchain-community) (8.5.0)\n",
      "Requirement already satisfied: langchain-core<0.3.0,>=0.2.43 in ./.local/lib/python3.8/site-packages (from langchain-community) (0.2.43)\n",
      "Requirement already satisfied: dataclasses-json<0.7,>=0.5.7 in ./.local/lib/python3.8/site-packages (from langchain-community) (0.6.7)\n",
      "Requirement already satisfied: aiohttp<4.0.0,>=3.8.3 in ./.local/lib/python3.8/site-packages (from langchain-community) (3.10.10)\n",
      "Requirement already satisfied: langsmith<0.2.0,>=0.1.112 in ./.local/lib/python3.8/site-packages (from langchain-community) (0.1.140)\n",
      "Requirement already satisfied: SQLAlchemy<3,>=1.4 in ./.local/lib/python3.8/site-packages (from langchain-community) (2.0.36)\n",
      "Requirement already satisfied: langchain<0.3.0,>=0.2.17 in ./.local/lib/python3.8/site-packages (from langchain-community) (0.2.17)\n",
      "Requirement already satisfied: filelock in /opt/ohpc/pub/apps/python/3.8.12/lib/python3.8/site-packages (from transformers) (3.4.2)\n",
      "Requirement already satisfied: safetensors>=0.4.1 in ./.local/lib/python3.8/site-packages (from transformers) (0.4.5)\n",
      "Requirement already satisfied: regex!=2019.12.17 in ./.local/lib/python3.8/site-packages (from transformers) (2024.11.6)\n",
      "Requirement already satisfied: huggingface-hub<1.0,>=0.23.2 in ./.local/lib/python3.8/site-packages (from transformers) (0.26.2)\n",
      "Requirement already satisfied: packaging>=20.0 in ./.local/lib/python3.8/site-packages (from transformers) (24.1)\n",
      "Requirement already satisfied: scipy in /opt/ohpc/pub/apps/python/3.8.12/lib/python3.8/site-packages (from sentence-transformers) (1.8.0)\n",
      "Requirement already satisfied: scikit-learn in /opt/ohpc/pub/apps/python/3.8.12/lib/python3.8/site-packages (from sentence-transformers) (1.0.2)\n",
      "Requirement already satisfied: Pillow in /opt/ohpc/pub/apps/python/3.8.12/lib/python3.8/site-packages (from sentence-transformers) (9.0.1)\n",
      "Requirement already satisfied: torch>=1.11.0 in ./.local/lib/python3.8/site-packages (from sentence-transformers) (2.4.1)\n",
      "Requirement already satisfied: frozenlist>=1.1.1 in ./.local/lib/python3.8/site-packages (from aiohttp<4.0.0,>=3.8.3->langchain-community) (1.5.0)\n",
      "Requirement already satisfied: attrs>=17.3.0 in /opt/ohpc/pub/apps/python/3.8.12/lib/python3.8/site-packages (from aiohttp<4.0.0,>=3.8.3->langchain-community) (21.4.0)\n",
      "Requirement already satisfied: yarl<2.0,>=1.12.0 in ./.local/lib/python3.8/site-packages (from aiohttp<4.0.0,>=3.8.3->langchain-community) (1.15.2)\n",
      "Requirement already satisfied: multidict<7.0,>=4.5 in ./.local/lib/python3.8/site-packages (from aiohttp<4.0.0,>=3.8.3->langchain-community) (6.1.0)\n",
      "Requirement already satisfied: aiohappyeyeballs>=2.3.0 in ./.local/lib/python3.8/site-packages (from aiohttp<4.0.0,>=3.8.3->langchain-community) (2.4.3)\n",
      "Requirement already satisfied: async-timeout<5.0,>=4.0 in ./.local/lib/python3.8/site-packages (from aiohttp<4.0.0,>=3.8.3->langchain-community) (4.0.3)\n",
      "Requirement already satisfied: aiosignal>=1.1.2 in ./.local/lib/python3.8/site-packages (from aiohttp<4.0.0,>=3.8.3->langchain-community) (1.3.1)\n",
      "Requirement already satisfied: zstandard in ./.local/lib/python3.8/site-packages (from clickhouse-connect>=0.5.7->chromadb==0.3.29) (0.23.0)\n",
      "Requirement already satisfied: certifi in /opt/ohpc/pub/apps/python/3.8.12/lib/python3.8/site-packages (from clickhouse-connect>=0.5.7->chromadb==0.3.29) (2021.10.8)\n",
      "Requirement already satisfied: lz4 in ./.local/lib/python3.8/site-packages (from clickhouse-connect>=0.5.7->chromadb==0.3.29) (4.3.3)\n",
      "Requirement already satisfied: urllib3>=1.26 in /opt/ohpc/pub/apps/python/3.8.12/lib/python3.8/site-packages (from clickhouse-connect>=0.5.7->chromadb==0.3.29) (1.26.8)\n",
      "Requirement already satisfied: pytz in /opt/ohpc/pub/apps/python/3.8.12/lib/python3.8/site-packages (from clickhouse-connect>=0.5.7->chromadb==0.3.29) (2021.3)\n",
      "Requirement already satisfied: marshmallow<4.0.0,>=3.18.0 in ./.local/lib/python3.8/site-packages (from dataclasses-json<0.7,>=0.5.7->langchain-community) (3.22.0)\n",
      "Requirement already satisfied: typing-inspect<1,>=0.4.0 in ./.local/lib/python3.8/site-packages (from dataclasses-json<0.7,>=0.5.7->langchain-community) (0.9.0)\n",
      "Requirement already satisfied: fsspec>=2023.5.0 in ./.local/lib/python3.8/site-packages (from huggingface-hub<1.0,>=0.23.2->transformers) (2024.10.0)\n",
      "Requirement already satisfied: langchain-text-splitters<0.3.0,>=0.2.0 in ./.local/lib/python3.8/site-packages (from langchain<0.3.0,>=0.2.17->langchain-community) (0.2.4)\n",
      "Requirement already satisfied: jsonpatch<2.0,>=1.33 in ./.local/lib/python3.8/site-packages (from langchain-core<0.3.0,>=0.2.43->langchain-community) (1.33)\n",
      "Requirement already satisfied: httpx<1,>=0.23.0 in ./.local/lib/python3.8/site-packages (from langsmith<0.2.0,>=0.1.112->langchain-community) (0.27.2)\n",
      "Requirement already satisfied: orjson<4.0.0,>=3.9.14 in ./.local/lib/python3.8/site-packages (from langsmith<0.2.0,>=0.1.112->langchain-community) (3.10.11)\n",
      "Requirement already satisfied: requests-toolbelt<2.0.0,>=1.0.0 in ./.local/lib/python3.8/site-packages (from langsmith<0.2.0,>=0.1.112->langchain-community) (1.0.0)\n",
      "Requirement already satisfied: coloredlogs in ./.local/lib/python3.8/site-packages (from onnxruntime>=1.14.1->chromadb==0.3.29) (15.0.1)\n",
      "Requirement already satisfied: protobuf in ./.local/lib/python3.8/site-packages (from onnxruntime>=1.14.1->chromadb==0.3.29) (5.28.3)\n",
      "Requirement already satisfied: sympy in ./.local/lib/python3.8/site-packages (from onnxruntime>=1.14.1->chromadb==0.3.29) (1.13.3)\n",
      "Requirement already satisfied: flatbuffers in ./.local/lib/python3.8/site-packages (from onnxruntime>=1.14.1->chromadb==0.3.29) (24.3.25)\n",
      "Requirement already satisfied: python-dateutil>=2.8.1 in /opt/ohpc/pub/apps/python/3.8.12/lib/python3.8/site-packages (from pandas>=1.3->chromadb==0.3.29) (2.8.2)\n",
      "Requirement already satisfied: six>=1.5 in /opt/ohpc/pub/apps/python/3.8.12/lib/python3.8/site-packages (from posthog>=2.4.0->chromadb==0.3.29) (1.16.0)\n",
      "Requirement already satisfied: backoff>=1.10.0 in ./.local/lib/python3.8/site-packages (from posthog>=2.4.0->chromadb==0.3.29) (2.2.1)\n",
      "Requirement already satisfied: monotonic>=1.5 in ./.local/lib/python3.8/site-packages (from posthog>=2.4.0->chromadb==0.3.29) (1.6)\n",
      "Requirement already satisfied: charset-normalizer<4,>=2 in /opt/ohpc/pub/apps/python/3.8.12/lib/python3.8/site-packages (from requests>=2.28->chromadb==0.3.29) (2.0.11)\n",
      "Requirement already satisfied: idna<4,>=2.5 in /opt/ohpc/pub/apps/python/3.8.12/lib/python3.8/site-packages (from requests>=2.28->chromadb==0.3.29) (3.3)\n",
      "Requirement already satisfied: greenlet!=0.4.17 in ./.local/lib/python3.8/site-packages (from SQLAlchemy<3,>=1.4->langchain-community) (3.1.1)\n",
      "Requirement already satisfied: nvidia-cudnn-cu12==9.1.0.70 in ./.local/lib/python3.8/site-packages (from torch>=1.11.0->sentence-transformers) (9.1.0.70)\n",
      "Requirement already satisfied: nvidia-curand-cu12==10.3.2.106 in ./.local/lib/python3.8/site-packages (from torch>=1.11.0->sentence-transformers) (10.3.2.106)\n",
      "Requirement already satisfied: nvidia-cufft-cu12==11.0.2.54 in ./.local/lib/python3.8/site-packages (from torch>=1.11.0->sentence-transformers) (11.0.2.54)\n",
      "Requirement already satisfied: nvidia-cuda-cupti-cu12==12.1.105 in ./.local/lib/python3.8/site-packages (from torch>=1.11.0->sentence-transformers) (12.1.105)\n",
      "Requirement already satisfied: nvidia-cusparse-cu12==12.1.0.106 in ./.local/lib/python3.8/site-packages (from torch>=1.11.0->sentence-transformers) (12.1.0.106)\n",
      "Requirement already satisfied: nvidia-nccl-cu12==2.20.5 in ./.local/lib/python3.8/site-packages (from torch>=1.11.0->sentence-transformers) (2.20.5)\n",
      "Requirement already satisfied: nvidia-nvtx-cu12==12.1.105 in ./.local/lib/python3.8/site-packages (from torch>=1.11.0->sentence-transformers) (12.1.105)\n",
      "Requirement already satisfied: jinja2 in /opt/ohpc/pub/apps/python/3.8.12/lib/python3.8/site-packages (from torch>=1.11.0->sentence-transformers) (3.0.3)\n",
      "Requirement already satisfied: nvidia-cublas-cu12==12.1.3.1 in ./.local/lib/python3.8/site-packages (from torch>=1.11.0->sentence-transformers) (12.1.3.1)\n",
      "Requirement already satisfied: nvidia-cusolver-cu12==11.4.5.107 in ./.local/lib/python3.8/site-packages (from torch>=1.11.0->sentence-transformers) (11.4.5.107)\n",
      "Requirement already satisfied: triton==3.0.0 in ./.local/lib/python3.8/site-packages (from torch>=1.11.0->sentence-transformers) (3.0.0)\n",
      "Requirement already satisfied: nvidia-cuda-runtime-cu12==12.1.105 in ./.local/lib/python3.8/site-packages (from torch>=1.11.0->sentence-transformers) (12.1.105)\n",
      "Requirement already satisfied: networkx in ./.local/lib/python3.8/site-packages (from torch>=1.11.0->sentence-transformers) (3.1)\n",
      "Requirement already satisfied: nvidia-cuda-nvrtc-cu12==12.1.105 in ./.local/lib/python3.8/site-packages (from torch>=1.11.0->sentence-transformers) (12.1.105)\n",
      "Requirement already satisfied: nvidia-nvjitlink-cu12 in ./.local/lib/python3.8/site-packages (from nvidia-cusolver-cu12==11.4.5.107->torch>=1.11.0->sentence-transformers) (12.6.77)\n",
      "Requirement already satisfied: h11>=0.8 in ./.local/lib/python3.8/site-packages (from uvicorn[standard]>=0.18.3->chromadb==0.3.29) (0.14.0)\n",
      "Requirement already satisfied: click>=7.0 in /opt/ohpc/pub/apps/python/3.8.12/lib/python3.8/site-packages (from uvicorn[standard]>=0.18.3->chromadb==0.3.29) (8.0.3)\n",
      "Requirement already satisfied: httptools>=0.5.0 in ./.local/lib/python3.8/site-packages (from uvicorn[standard]>=0.18.3->chromadb==0.3.29) (0.6.4)\n",
      "Requirement already satisfied: python-dotenv>=0.13 in ./.local/lib/python3.8/site-packages (from uvicorn[standard]>=0.18.3->chromadb==0.3.29) (1.0.1)\n",
      "Requirement already satisfied: uvloop!=0.15.0,!=0.15.1,>=0.14.0 in ./.local/lib/python3.8/site-packages (from uvicorn[standard]>=0.18.3->chromadb==0.3.29) (0.21.0)\n",
      "Requirement already satisfied: websockets>=10.4 in ./.local/lib/python3.8/site-packages (from uvicorn[standard]>=0.18.3->chromadb==0.3.29) (13.1)\n",
      "Requirement already satisfied: watchfiles>=0.13 in ./.local/lib/python3.8/site-packages (from uvicorn[standard]>=0.18.3->chromadb==0.3.29) (0.24.0)\n",
      "Requirement already satisfied: threadpoolctl>=2.0.0 in /opt/ohpc/pub/apps/python/3.8.12/lib/python3.8/site-packages (from scikit-learn->sentence-transformers) (3.1.0)\n",
      "Requirement already satisfied: joblib>=0.11 in /opt/ohpc/pub/apps/python/3.8.12/lib/python3.8/site-packages (from scikit-learn->sentence-transformers) (1.1.0)\n",
      "Requirement already satisfied: httpcore==1.* in ./.local/lib/python3.8/site-packages (from httpx<1,>=0.23.0->langsmith<0.2.0,>=0.1.112->langchain-community) (1.0.6)\n",
      "Requirement already satisfied: sniffio in ./.local/lib/python3.8/site-packages (from httpx<1,>=0.23.0->langsmith<0.2.0,>=0.1.112->langchain-community) (1.3.1)\n",
      "Requirement already satisfied: jsonpointer>=1.9 in ./.local/lib/python3.8/site-packages (from jsonpatch<2.0,>=1.33->langchain-core<0.3.0,>=0.2.43->langchain-community) (3.0.0)\n",
      "Requirement already satisfied: mypy-extensions>=0.3.0 in /opt/ohpc/pub/apps/python/3.8.12/lib/python3.8/site-packages (from typing-inspect<1,>=0.4.0->dataclasses-json<0.7,>=0.5.7->langchain-community) (0.4.3)\n",
      "Requirement already satisfied: propcache>=0.2.0 in ./.local/lib/python3.8/site-packages (from yarl<2.0,>=1.12.0->aiohttp<4.0.0,>=3.8.3->langchain-community) (0.2.0)\n",
      "Requirement already satisfied: humanfriendly>=9.1 in ./.local/lib/python3.8/site-packages (from coloredlogs->onnxruntime>=1.14.1->chromadb==0.3.29) (10.0)\n",
      "Requirement already satisfied: MarkupSafe>=2.0 in /opt/ohpc/pub/apps/python/3.8.12/lib/python3.8/site-packages (from jinja2->torch>=1.11.0->sentence-transformers) (2.0.1)\n",
      "Requirement already satisfied: mpmath<1.4,>=1.1.0 in ./.local/lib/python3.8/site-packages (from sympy->onnxruntime>=1.14.1->chromadb==0.3.29) (1.3.0)\n",
      "Requirement already satisfied: exceptiongroup>=1.0.2 in ./.local/lib/python3.8/site-packages (from anyio<5,>=3.4.0->starlette==0.20.4->fastapi==0.85.1->chromadb==0.3.29) (1.2.2)\n",
      "\u001b[33mWARNING: You are using pip version 22.0.3; however, version 24.3.1 is available.\n",
      "You should consider upgrading via the '/opt/ohpc/pub/apps/python/3.8.12/bin/python3.8 -m pip install --upgrade pip' command.\u001b[0m\u001b[33m\n",
      "\u001b[0m"
     ]
    }
   ],
   "source": [
    "!pip install langchain-community pypdf transformers pypdf sentence-transformers langchain-huggingface chromadb==0.3.29"
   ]
  },
  {
   "cell_type": "code",
   "execution_count": 6,
   "id": "aee91072",
   "metadata": {},
   "outputs": [],
   "source": [
    "import os\n",
    "from langchain_community.document_loaders import PyPDFLoader\n",
    "from langchain.text_splitter import RecursiveCharacterTextSplitter\n",
    "\n",
    "# Path to your PDF directory\n",
    "pdf_directory = '/home/u3/prasan/cancer'\n",
    "pdf_files = [os.path.join(pdf_directory, file) for file in os.listdir(pdf_directory) if file.endswith('.pdf')]\n",
    "\n",
    "# Load and split the documents into pages\n",
    "documents = []\n",
    "for pdf_file in pdf_files:\n",
    "    loader = PyPDFLoader(pdf_file)\n",
    "    pages = loader.load_and_split()\n",
    "    documents.extend(pages)\n",
    "\n",
    "# Apply RecursiveCharacterTextSplitter for recursive splitting\n",
    "splitter = RecursiveCharacterTextSplitter(chunk_size=1200, chunk_overlap=150)  # Split into chunks of 1000 characters with 100 overlap\n",
    "split_documents = splitter.split_documents(documents)"
   ]
  },
  {
   "cell_type": "code",
   "execution_count": 7,
   "id": "536cb1ee",
   "metadata": {},
   "outputs": [
    {
     "name": "stdout",
     "output_type": "stream",
     "text": [
      "115\n",
      "208\n"
     ]
    }
   ],
   "source": [
    "print (len(documents))\n",
    "print (len(split_documents))"
   ]
  },
  {
   "cell_type": "code",
   "execution_count": 8,
   "id": "bd433855",
   "metadata": {
    "scrolled": true
   },
   "outputs": [
    {
     "name": "stderr",
     "output_type": "stream",
     "text": [
      "/home/u3/prasan/.local/lib/python3.8/site-packages/sentence_transformers/cross_encoder/CrossEncoder.py:13: TqdmExperimentalWarning: Using `tqdm.autonotebook.tqdm` in notebook mode. Use `tqdm.tqdm` instead to force console mode (e.g. in jupyter console)\n",
      "  from tqdm.autonotebook import tqdm, trange\n"
     ]
    },
    {
     "name": "stdout",
     "output_type": "stream",
     "text": [
      "Top 3 most relevant documents:\n",
      "Page 7: 2\n",
      "Learning that you have cancer can come as a shock. How did you react? You may \n",
      "have felt numb, frightened, or angry. You may not have believed what the doctor \n",
      "was saying. You may have felt all alone, even if your friends and family were in \n",
      "the same room with you. These feelings are normal. \n",
      "For \n",
      "Page 7: 2\n",
      "Learning that you have cancer can come as a shock. How did you react? You may \n",
      "have felt numb, frightened, or angry. You may not have believed what the doctor \n",
      "was saying. You may have felt all alone, even if your friends and family were in \n",
      "the same room with you. These feelings are normal. \n",
      "For \n"
     ]
    }
   ],
   "source": [
    "from langchain_huggingface import HuggingFaceEmbeddings\n",
    "from langchain.vectorstores import Chroma\n",
    "from langchain.docstore.document import Document\n",
    "\n",
    "# Load the model from HuggingFace's SentenceTransformers to create embeddings\n",
    "model_name = 'sentence-transformers/all-MiniLM-L6-v2'\n",
    "huggingface_embeddings = HuggingFaceEmbeddings(model_name=model_name)\n",
    "\n",
    "# Create the Chroma vector store\n",
    "persist_directory = 'chroma-vector-store'\n",
    "if not os.path.exists(persist_directory):\n",
    "    os.makedirs(persist_directory)\n",
    "\n",
    "vectorstore = Chroma.from_documents(split_documents, huggingface_embeddings, persist_directory=persist_directory)\n",
    "\n",
    "# Perform a similarity search for the example query to test the RAG (Retrieve and Generate)\n",
    "query = \"What should i do when i discover i have cancer?\"\n",
    "results = vectorstore.similarity_search(query, k=3)  # Retrieve the top 3 most similar documents\n",
    "\n",
    "# Display the results\n",
    "print(\"Top 3 most relevant documents:\")\n",
    "for result in results:\n",
    "    print(f\"Page {result.metadata['page']}: {result.page_content[:300]}\")  # Print the first 300 characters of the chunk"
   ]
  },
  {
   "cell_type": "code",
   "execution_count": 9,
   "id": "2c59cc11",
   "metadata": {
    "scrolled": true
   },
   "outputs": [
    {
     "name": "stdout",
     "output_type": "stream",
     "text": [
      "Answer: {'query': 'What should I do when I discover I have cancer?', 'result': \"Based on the provided context, here are some suggestions on what to do when you discover you have cancer:\\n\\n1. **Acknowledge and Accept Your Feelings**: Understand that feelings of shock, numbness, fear, anger, or disbelief are normal. It's also normal for these feelings to change often.\\n\\n2. **Take Time to Process**: The first few weeks after diagnosis can be very hard. You may have trouble thinking, eating, or sleeping. Give yourself time to absorb the information.\\n\\n3. **Seek Support**: Share your feelings with friends, family, or a support group. You may feel lonely, but remember that there are people who care about you and want to help.\\n\\n4. **Practice Self-Care**: You may feel out of control or unable to care for yourself. Try to maintain a healthy routine and ask for help when you need it.\\n\\n5. **Find Hope**: Many people feel a sense of hope once they accept their diagnosis. This hope can come from various sources, such as support from loved ones, faith, or trust in your medical team.\\n\\n6. **Communicate with Your Healthcare Team**: Express your feelings and concerns to your doctors. They can provide information, reassurance, and help you make decisions about your treatment.\", 'source_documents': [Document(metadata={'source': '/home/u3/prasan/cancer/cancertaking.pdf', 'page': 7}, page_content='2\\nLearning that you have cancer can come as a shock. How did you react? You may \\nhave felt numb, frightened, or angry. You may not have believed what the doctor \\nwas saying. You may have felt all alone, even if your friends and family were in \\nthe same room with you. These feelings are normal. \\nFor many people, the first few weeks after diagnosis are very hard. After you hear \\nthe word “cancer,” you may have trouble breathing or listening to what is being \\nsaid. When you’re at home, you may have trouble thinking, eating, or sleeping. \\nPeople with cancer and those close to them experience a wide range of feelings \\nand emotions. These feelings can change often and without warning. \\nAt times, you may: \\nn Be angry, afraid, or worried \\nn Not really believe that you have cancer \\nn Feel out of control and not able to care for yourself\\nn Be sad, guilty, or lonely \\nn Have a strong sense of hope for the future \\nThis chapter looks at many of the feelings that come up when people find out \\nthey have cancer. \\nHope\\nOnce people accept that they have cancer, they often feel a sense of hope. There \\nare many reasons to feel hopeful.'), Document(metadata={'source': '/home/u3/prasan/cancer/cancertaking.pdf', 'page': 7}, page_content='2\\nLearning that you have cancer can come as a shock. How did you react? You may \\nhave felt numb, frightened, or angry. You may not have believed what the doctor \\nwas saying. You may have felt all alone, even if your friends and family were in \\nthe same room with you. These feelings are normal. \\nFor many people, the first few weeks after diagnosis are very hard. After you hear \\nthe word “cancer,” you may have trouble breathing or listening to what is being \\nsaid. When you’re at home, you may have trouble thinking, eating, or sleeping. \\nPeople with cancer and those close to them experience a wide range of feelings \\nand emotions. These feelings can change often and without warning. \\nAt times, you may: \\nn Be angry, afraid, or worried \\nn Not really believe that you have cancer \\nn Feel out of control and not able to care for yourself\\nn Be sad, guilty, or lonely \\nn Have a strong sense of hope for the future \\nThis chapter looks at many of the feelings that come up when people find out \\nthey have cancer. \\nHope\\nOnce people accept that they have cancer, they often feel a sense of hope. There \\nare many reasons to feel hopeful.')]}\n"
     ]
    }
   ],
   "source": [
    "from langchain.chains import RetrievalQA\n",
    "from langchain.prompts import ChatPromptTemplate\n",
    "\n",
    "# Convert the vector store to a retriever\n",
    "retriever = vectorstore.as_retriever(\n",
    "    search_type=\"similarity\",\n",
    "    search_kwargs={\"k\": 3}\n",
    ")\n",
    "\n",
    "system_prompt = (\n",
    "    \"You are an assistant. Use the following pieces of retrieved context to answer the question. \"\n",
    "    \"If you don't know the answer, say that you don't know. Don't try to make up an answer. \"\n",
    "   \n",
    "    \"{context}\"\n",
    ")\n",
    "\n",
    "prompt = ChatPromptTemplate.from_messages(\n",
    "    [\n",
    "        (\"system\", system_prompt),\n",
    "        (\"human\", \"{question}\"),\n",
    "    ]\n",
    ")\n",
    "\n",
    "# Create a Retrieval QA chain with the retriever and language model\n",
    "llm_model = ChatMistralAI(model=\"mistral-large-latest\")\n",
    "qa_chain = RetrievalQA.from_chain_type(\n",
    "    llm=llm_model,\n",
    "    chain_type=\"stuff\",\n",
    "    retriever=retriever,\n",
    "    chain_type_kwargs={\"prompt\": prompt},\n",
    "    return_source_documents=True\n",
    ")\n",
    "\n",
    "# Example query\n",
    "question = \"What should I do when I discover I have cancer?\"\n",
    "response = qa_chain.invoke({\"query\": question})\n",
    "print(f\"Answer: {response}\")"
   ]
  },
  {
   "cell_type": "code",
   "execution_count": 10,
   "id": "b2b707c0",
   "metadata": {
    "scrolled": true
   },
   "outputs": [
    {
     "name": "stdout",
     "output_type": "stream",
     "text": [
      "Retrieved Contexts:\n",
      "\n",
      "Context from Page 7:\n",
      "2\n",
      "Learning that you have cancer can come as a shock. How did you react? You may \n",
      "have felt numb, frightened, or angry. You may not have believed what the doctor \n",
      "was saying. You may have felt all alone, even if your friends and family were in \n",
      "the same room with you. These feelings are normal. \n",
      "For \n",
      "\n",
      "Context from Page 7:\n",
      "2\n",
      "Learning that you have cancer can come as a shock. How did you react? You may \n",
      "have felt numb, frightened, or angry. You may not have believed what the doctor \n",
      "was saying. You may have felt all alone, even if your friends and family were in \n",
      "the same room with you. These feelings are normal. \n",
      "For \n",
      "\n",
      "Answer:\n",
      "Based on the provided context, here are some suggestions on what to do when you discover you have cancer:\n",
      "\n",
      "1. **Acknowledge and Accept Your Feelings**: Understand that feelings of shock, numbness, fear, anger, or disbelief are normal. It's also normal for these feelings to change often.\n",
      "\n",
      "2. **Take Time to Process**: The first few weeks after diagnosis can be very hard. You may have trouble thinking, eating, or sleeping. Give yourself time to absorb the information.\n",
      "\n",
      "3. **Seek Support**: Share your feelings with friends, family, or a support group. You may feel lonely, but remember that there are people who care about you and want to help.\n",
      "\n",
      "4. **Practice Self-Care**: You may feel out of control or unable to care for yourself. Try to maintain a healthy routine and ask for help when you need it.\n",
      "\n",
      "5. **Find Hope**: Many people feel a sense of hope once they accept their diagnosis. This hope can come from various sources, such as support from loved ones, faith, or trust in your medical team.\n",
      "\n",
      "6. **Communicate with Your Healthcare Team**: Express your feelings and concerns to your doctors. They can provide information, reassurance, and help you make decisions about your treatment.\n"
     ]
    }
   ],
   "source": [
    "# Display the retrieved contexts\n",
    "print(\"Retrieved Contexts:\")\n",
    "for context_doc in response[\"source_documents\"]:\n",
    "    print(f\"\\nContext from Page {context_doc.metadata.get('page', 'Unknown')}:\")\n",
    "    print(context_doc.page_content[:300])  # Display the first 300 characters for readability\n",
    "\n",
    "# Display the final answer\n",
    "print(\"\\nAnswer:\")\n",
    "print(response['result'])"
   ]
  },
  {
   "cell_type": "markdown",
   "id": "55935002",
   "metadata": {},
   "source": [
    "# Chatbot on Langchain (context-aware multi-turn conversational bot)\n",
    "\n",
    "\n",
    "Before we had: query -> retriever\n",
    "\n",
    "Now we will have: (query, conversation history) -> LLM -> rephrased query -> retriever -> LLM"
   ]
  },
  {
   "cell_type": "code",
   "execution_count": 11,
   "id": "457d9c0d",
   "metadata": {},
   "outputs": [],
   "source": [
    "from langchain.prompts import ChatPromptTemplate\n",
    "from langchain.chains import create_history_aware_retriever\n",
    "from langchain_core.prompts import MessagesPlaceholder\n",
    "\n",
    "contextualize_q_system_prompt = (\n",
    "    \"Given a chat history and the latest user question which might reference context in the chat history, \"\n",
    "    \"formulate a standalone question which can be understood without the chat history. \"\n",
    "    \"Do NOT answer the question, just reformulate it if needed and otherwise return it as is.\"\n",
    ")\n",
    "\n",
    "contextualize_q_prompt = ChatPromptTemplate.from_messages(\n",
    "    [\n",
    "        (\"system\", contextualize_q_system_prompt),\n",
    "        MessagesPlaceholder(\"chat_history\"),\n",
    "        (\"human\", \"{input}\"),\n",
    "    ]\n",
    ")\n",
    "\n",
    "history_aware_retriever = create_history_aware_retriever(\n",
    "    llm_model, retriever, contextualize_q_prompt\n",
    ")"
   ]
  },
  {
   "cell_type": "code",
   "execution_count": 12,
   "id": "6a2a0206",
   "metadata": {},
   "outputs": [],
   "source": [
    "from langchain.chains.combine_documents import create_stuff_documents_chain\n",
    "from langchain.chains import create_retrieval_chain\n",
    "\n",
    "qa_prompt = ChatPromptTemplate.from_messages(\n",
    "    [\n",
    "        (\"system\", system_prompt),\n",
    "        MessagesPlaceholder(\"chat_history\"),\n",
    "        (\"human\", \"{input}\"),\n",
    "    ]\n",
    ")\n",
    "\n",
    "question_answer_chain = create_stuff_documents_chain(llm_model, qa_prompt)\n",
    "\n",
    "# Final RAG chain\n",
    "rag_chain = create_retrieval_chain(history_aware_retriever, question_answer_chain)"
   ]
  },
  {
   "cell_type": "code",
   "execution_count": null,
   "id": "2e54129c",
   "metadata": {
    "scrolled": true
   },
   "outputs": [],
   "source": [
    "# # Example of a chat history with prior conversation\n",
    "# chat_history = [\n",
    "#     (\"human\", \"What is cancer?\"),\n",
    "#     (\"assistant\", \"Cancer is a group of diseases characterized by uncontrolled cell growth.\")\n",
    "# ]\n",
    "\n",
    "# # New question from the user\n",
    "# question = \"What should I do when I discover I have cancer?\"\n",
    "\n",
    "# # Invoke the RAG chain with the chat history and the new question\n",
    "# response = rag_chain.invoke({\"input\": question, \"chat_history\": chat_history})\n",
    "\n",
    "# # Print the full response to understand its structure\n",
    "# print(\"Full response:\", response)\n",
    "\n",
    "# # Access the answer generated by the chain\n",
    "# if 'answer' in response:\n",
    "#     print(\"Answer:\", response['answer'])\n",
    "# else:\n",
    "#     print(\"No answer found in response.\")\n",
    "\n",
    "# # Display the retrieved context (if any)\n",
    "# if 'context' in response:\n",
    "#     print(\"Retrieved Contexts:\")\n",
    "#     for context_doc in response['context']:\n",
    "#         print(f\"\\nContext from {context_doc.metadata.get('source', 'Unknown')}, Page {context_doc.metadata.get('page', 'Unknown')}:\")\n",
    "#         print(context_doc.page_content[:300])  # Display first 300 characters for readability\n",
    "# else:\n",
    "#     print(\"No context found.\")"
   ]
  },
  {
   "cell_type": "code",
   "execution_count": 13,
   "id": "13842340",
   "metadata": {},
   "outputs": [],
   "source": [
    "from langchain.memory import ConversationBufferMemory\n",
    "\n",
    "# Initialize memory\n",
    "memory = ConversationBufferMemory(\n",
    "    memory_key=\"chat_history\",\n",
    "    return_messages=True\n",
    ")\n",
    "\n",
    "# Example usage\n",
    "def get_response(question: str):\n",
    "    # Get chat history from memory\n",
    "    chat_history = memory.load_memory_variables({})[\"chat_history\"]\n",
    "    \n",
    "    # Run the chain\n",
    "    response = rag_chain.invoke({\n",
    "        \"input\": question,\n",
    "        \"chat_history\": chat_history\n",
    "    })\n",
    "    \n",
    "    # Save the interaction to memory\n",
    "    memory.save_context(\n",
    "        {\"input\": question},\n",
    "        {\"output\": response[\"answer\"]}\n",
    "    )\n",
    "    \n",
    "    return response[\"answer\"]"
   ]
  },
  {
   "cell_type": "code",
   "execution_count": 14,
   "id": "afcf3abd",
   "metadata": {},
   "outputs": [
    {
     "name": "stdout",
     "output_type": "stream",
     "text": [
      "Answer 1: The provided context discusses various feelings and reactions people might have upon learning they have cancer, but it does not provide specific advice on what to do upon receiving a cancer diagnosis. Therefore, I don't have a specific answer for you based on the given information. It's always recommended to consult with healthcare professionals for guidance tailored to your specific situation.\n"
     ]
    }
   ],
   "source": [
    "question1 = \"What should I do when I discover I have cancer?\"\n",
    "answer1 = get_response(question1)\n",
    "print(\"Answer 1:\", answer1)"
   ]
  },
  {
   "cell_type": "code",
   "execution_count": 15,
   "id": "9feabe40",
   "metadata": {
    "scrolled": true
   },
   "outputs": [
    {
     "name": "stdout",
     "output_type": "stream",
     "text": [
      "Answer 2: Based on the provided context, here's what you should do regarding treatment options upon discovering you have cancer:\n",
      "\n",
      "1. **Educate yourself**: Learn as much as you can about the available treatment options for your specific type of cancer.\n",
      "\n",
      "2. **Discuss with your healthcare team**: Talk openly with your doctor about the potential treatments, their benefits, and side effects. They can provide personalized advice based on your health profile and the specifics of your cancer.\n",
      "\n",
      "3. **Consider side effects and their management**: Understand that treatments can have side effects, such as impacting fertility or affecting your diet. Many side effects can be managed with the help of your healthcare team, such as adjusting medications or suggesting suitable foods to eat.\n",
      "\n",
      "4. **Get a second opinion**: If you're unsure about the proposed treatment options, don't hesitate to seek a second opinion from another specialist.\n",
      "\n",
      "Chat History:\n",
      "human: What should I do when I discover I have cancer?\n",
      "ai: The provided context discusses various feelings and reactions people might have upon learning they have cancer, but it does not provide specific advice on what to do upon receiving a cancer diagnosis. Therefore, I don't have a specific answer for you based on the given information. It's always recommended to consult with healthcare professionals for guidance tailored to your specific situation.\n",
      "human: What about treatment options?\n",
      "ai: Based on the provided context, here's what you should do regarding treatment options upon discovering you have cancer:\n",
      "\n",
      "1. **Educate yourself**: Learn as much as you can about the available treatment options for your specific type of cancer.\n",
      "\n",
      "2. **Discuss with your healthcare team**: Talk openly with your doctor about the potential treatments, their benefits, and side effects. They can provide personalized advice based on your health profile and the specifics of your cancer.\n",
      "\n",
      "3. **Consider side effects and their management**: Understand that treatments can have side effects, such as impacting fertility or affecting your diet. Many side effects can be managed with the help of your healthcare team, such as adjusting medications or suggesting suitable foods to eat.\n",
      "\n",
      "4. **Get a second opinion**: If you're unsure about the proposed treatment options, don't hesitate to seek a second opinion from another specialist.\n"
     ]
    }
   ],
   "source": [
    "question2 = \"What about treatment options?\"\n",
    "answer2 = get_response(question2)\n",
    "print(\"Answer 2:\", answer2)\n",
    "\n",
    "print(\"\\nChat History:\")\n",
    "chat_history = memory.load_memory_variables({})[\"chat_history\"]\n",
    "for message in chat_history:\n",
    "    print(f\"{message.type}: {message.content}\")"
   ]
  },
  {
   "cell_type": "code",
   "execution_count": null,
   "id": "9bb4e3ee",
   "metadata": {},
   "outputs": [],
   "source": [
    "memory.clear()"
   ]
  }
 ],
 "metadata": {
  "kernelspec": {
   "display_name": "Python 3 (ipykernel)",
   "language": "python",
   "name": "python3"
  },
  "language_info": {
   "codemirror_mode": {
    "name": "ipython",
    "version": 3
   },
   "file_extension": ".py",
   "mimetype": "text/x-python",
   "name": "python",
   "nbconvert_exporter": "python",
   "pygments_lexer": "ipython3",
   "version": "3.8.12"
  }
 },
 "nbformat": 4,
 "nbformat_minor": 5
}
